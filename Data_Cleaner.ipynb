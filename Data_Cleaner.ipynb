{
 "cells": [
  {
   "cell_type": "code",
   "id": "initial_id",
   "metadata": {
    "collapsed": true,
    "ExecuteTime": {
     "end_time": "2024-06-10T15:07:24.116897Z",
     "start_time": "2024-06-10T15:07:23.557397Z"
    }
   },
   "source": [
    "import pandas as pd\n",
    "sensors = ['2.B53_testperiod', '2.B54_testperiod', '2.B55_testperiod', '2.B56_testperiod', '2.B57_testperiod', '2.B58_testperiod', '2.B59_testperiod', '2.B60_testperiod', '1.C01']\n",
    "output_path = 'Data_clean/Locus_sensors/'  \n",
    "\n",
    "for sensor in sensors:\n",
    "    data = pd.read_excel(f'Data/TriggerCounts/Locus_sensors/{sensor}.xlsx', skiprows=2)\n",
    "    data = data[['Date', 'Count']]\n",
    "    data['Date'] = pd.to_datetime(data['Date'], errors='coerce')\n",
    "    data.dropna(subset=['Date'], inplace=True)\n",
    "    data = data[data['Date'].dt.hour.between(8, 24)]\n",
    "    data.to_excel(f'{output_path}{sensor}_processed.xlsx', index=False)\n"
   ],
   "outputs": [],
   "execution_count": 7
  },
  {
   "metadata": {
    "ExecuteTime": {
     "end_time": "2024-06-04T13:05:52.921861Z",
     "start_time": "2024-06-04T13:05:52.783362Z"
    }
   },
   "cell_type": "code",
   "source": "data1 = pd.read_excel('Data_clean/Locus_sensors/2.B53_processed.xlsx')",
   "id": "de1350d578e20676",
   "outputs": [],
   "execution_count": 13
  },
  {
   "metadata": {
    "ExecuteTime": {
     "end_time": "2024-06-04T13:05:52.937362Z",
     "start_time": "2024-06-04T13:05:52.922861Z"
    }
   },
   "cell_type": "code",
   "source": "data1.info",
   "id": "51f49e7c8dada5fc",
   "outputs": [
    {
     "data": {
      "text/plain": [
       "<bound method DataFrame.info of                     Date  Count\n",
       "0    2024-04-01 09:59:02    1.0\n",
       "1    2024-04-01 10:04:01    0.0\n",
       "2    2024-04-01 10:09:01    0.0\n",
       "3    2024-04-01 10:14:01    0.0\n",
       "4    2024-04-01 10:19:01    0.0\n",
       "...                  ...    ...\n",
       "6496 2024-05-31 21:18:12    1.0\n",
       "6497 2024-05-31 21:23:11    0.0\n",
       "6498 2024-05-31 21:28:11    0.0\n",
       "6499 2024-05-31 21:33:11    0.0\n",
       "6500 2024-05-31 21:38:11    0.0\n",
       "\n",
       "[6501 rows x 2 columns]>"
      ]
     },
     "execution_count": 14,
     "metadata": {},
     "output_type": "execute_result"
    }
   ],
   "execution_count": 14
  },
  {
   "metadata": {
    "ExecuteTime": {
     "end_time": "2024-06-04T13:07:50.195849Z",
     "start_time": "2024-06-04T13:07:45.768852Z"
    }
   },
   "cell_type": "code",
   "source": [
    "sensors = ['2.P01', '2.P02', '2.P03', '2.P04', '2P.01', '2P.02', '2P.03', '2P.04']\n",
    "output_path = 'Data_clean/Alta_sensors/'  \n",
    "\n",
    "for sensor in sensors:\n",
    "    data = pd.read_excel(f'Data/TriggerCounts/Alta_sensors/{sensor}.xlsx', skiprows=2)\n",
    "    data = data[['Date', 'Count']]\n",
    "    data['Date'] = pd.to_datetime(data['Date'], errors='coerce')\n",
    "    data.dropna(subset=['Date'], inplace=True)\n",
    "    data = data[data['Date'].dt.hour.between(8, 24)]\n",
    "    data.to_excel(f'{output_path}{sensor}_processed.xlsx', index=False)\n"
   ],
   "id": "24f18dcd48809348",
   "outputs": [],
   "execution_count": 15
  },
  {
   "metadata": {
    "ExecuteTime": {
     "end_time": "2024-06-04T13:08:26.016767Z",
     "start_time": "2024-06-04T13:08:25.920767Z"
    }
   },
   "cell_type": "code",
   "source": "data2 = pd.read_excel('Data_clean/Alta_sensors/2.P01_processed.xlsx')",
   "id": "2786d4c5c47415bc",
   "outputs": [],
   "execution_count": 16
  },
  {
   "metadata": {
    "ExecuteTime": {
     "end_time": "2024-06-04T13:08:31.866542Z",
     "start_time": "2024-06-04T13:08:31.854542Z"
    }
   },
   "cell_type": "code",
   "source": "data2.info",
   "id": "7b7733bd985e2fb7",
   "outputs": [
    {
     "data": {
      "text/plain": [
       "<bound method DataFrame.info of                     Date  Count\n",
       "0    2024-05-01 08:04:15    0.0\n",
       "1    2024-05-01 08:19:15    0.0\n",
       "2    2024-05-01 08:33:23    3.0\n",
       "3    2024-05-01 08:38:22   97.0\n",
       "4    2024-05-01 08:43:22    0.0\n",
       "...                  ...    ...\n",
       "4407 2024-05-31 23:17:11    0.0\n",
       "4408 2024-05-31 23:32:12    0.0\n",
       "4409 2024-05-31 23:47:12    0.0\n",
       "4410 2024-05-31 23:52:11    1.0\n",
       "4411 2024-05-31 23:57:11   41.0\n",
       "\n",
       "[4412 rows x 2 columns]>"
      ]
     },
     "execution_count": 17,
     "metadata": {},
     "output_type": "execute_result"
    }
   ],
   "execution_count": 17
  },
  {
   "metadata": {
    "ExecuteTime": {
     "end_time": "2024-06-10T08:46:21.933333Z",
     "start_time": "2024-06-10T08:46:21.244834Z"
    }
   },
   "cell_type": "code",
   "source": [
    "file1 = 'Data_clean/Alta_sensors/2.P04_processed.xlsx'\n",
    "df1 = pd.read_excel(file1, sheet_name='Sheet1')\n",
    "\n",
    "# Load the second file\n",
    "file2 = 'Data_clean/Alta_sensors/2P.04_processed.xlsx'\n",
    "df2 = pd.read_excel(file2, sheet_name='Sheet1')\n",
    "\n",
    "# Concatenate the DataFrames\n",
    "combined_df = pd.concat([df1, df2], ignore_index=True)\n",
    "\n",
    "combined_df.to_excel('Data_clean/Alta_sensors/2P04_combined.xlsx', index=False)"
   ],
   "id": "d0ef6afeaf77fa57",
   "outputs": [],
   "execution_count": 6
  },
  {
   "metadata": {
    "ExecuteTime": {
     "end_time": "2024-06-17T09:02:07.833290Z",
     "start_time": "2024-06-17T09:02:07.520290Z"
    }
   },
   "cell_type": "code",
   "source": [
    "import pandas as pd\n",
    "sensors = ['1.E09', '1.E10', '1.E15', '1.E16', '2.B53', '2.B54', '2.B55', '2.B56', '2.B57', '2.B58', '2.B59', '2.B60', '2.T01', '2.T02', '2.T03', '2.T04' ]\n",
    "output_path = 'Data_clean/Testing_data/Locus/'  \n",
    "for sensor in sensors:\n",
    "    data = pd.read_excel(f'Nieuw/{sensor}.xlsx', skiprows=2)\n",
    "    data = data[['Date', 'Count']]\n",
    "    data['Date'] = pd.to_datetime(data['Date'], errors='coerce')\n",
    "    data.dropna(subset=['Date'], inplace=True)\n",
    "    data = data[data['Date'].dt.hour.between(8, 24)]\n",
    "    data.to_excel(f'{output_path}{sensor}_processed.xlsx', index=False)"
   ],
   "id": "24a43088c09c5092",
   "outputs": [],
   "execution_count": 7
  },
  {
   "metadata": {
    "ExecuteTime": {
     "end_time": "2024-06-17T09:02:08.271378Z",
     "start_time": "2024-06-17T09:02:08.177379Z"
    }
   },
   "cell_type": "code",
   "source": [
    "sensors = ['2.P01', '2.P02','2.P03','2.P04']\n",
    "output_path = 'Data_clean/Testing_data/Alta/'  \n",
    "for sensor in sensors:\n",
    "    data = pd.read_excel(f'Nieuw/{sensor}.xlsx', skiprows=2)\n",
    "    data = data[['Date', 'Count']]\n",
    "    data['Date'] = pd.to_datetime(data['Date'], errors='coerce')\n",
    "    data.dropna(subset=['Date'], inplace=True)\n",
    "    data = data[data['Date'].dt.hour.between(8, 24)]\n",
    "    data.to_excel(f'{output_path}{sensor}_processed.xlsx', index=False)"
   ],
   "id": "fd89e8cb76aa55d9",
   "outputs": [],
   "execution_count": 8
  },
  {
   "metadata": {},
   "cell_type": "code",
   "outputs": [],
   "execution_count": null,
   "source": "",
   "id": "dd5ace159fe8502f"
  }
 ],
 "metadata": {
  "kernelspec": {
   "display_name": "Python 3",
   "language": "python",
   "name": "python3"
  },
  "language_info": {
   "codemirror_mode": {
    "name": "ipython",
    "version": 2
   },
   "file_extension": ".py",
   "mimetype": "text/x-python",
   "name": "python",
   "nbconvert_exporter": "python",
   "pygments_lexer": "ipython2",
   "version": "2.7.6"
  }
 },
 "nbformat": 4,
 "nbformat_minor": 5
}
