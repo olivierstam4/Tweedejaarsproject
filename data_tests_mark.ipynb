{
 "cells": [
  {
   "cell_type": "code",
   "metadata": {
    "ExecuteTime": {
     "end_time": "2024-06-05T16:00:01.682695Z",
     "start_time": "2024-06-05T16:00:01.037295Z"
    }
   },
   "source": [
    "import pandas as pd\n",
    "import numpy as np\n",
    "import matplotlib.pyplot as plt\n",
    "import os\n",
    "from useful_functions import remove_zeros, remove_before, import_file, make_bins, make_equal_bins"
   ],
   "outputs": [],
   "execution_count": 1
  },
  {
   "cell_type": "code",
   "metadata": {
    "ExecuteTime": {
     "end_time": "2024-06-05T16:00:01.999916Z",
     "start_time": "2024-06-05T16:00:01.684394Z"
    }
   },
   "source": [
    "loc_b53 = import_file('Locus', '2.B53')"
   ],
   "outputs": [],
   "execution_count": 2
  },
  {
   "cell_type": "code",
   "metadata": {
    "ExecuteTime": {
     "end_time": "2024-06-05T16:00:02.009327Z",
     "start_time": "2024-06-05T16:00:02.001057Z"
    }
   },
   "source": [
    "loc_b53 = remove_zeros(loc_b53)\n",
    "# loc_b53 = remove_before(loc_b53, 10)\n",
    "print(loc_b53.max())"
   ],
   "outputs": [
    {
     "name": "stdout",
     "output_type": "stream",
     "text": [
      "Date     2024-05-31 21:18:12\n",
      "Count                   54.0\n",
      "dtype: object\n"
     ]
    }
   ],
   "execution_count": 3
  },
  {
   "cell_type": "code",
   "metadata": {
    "ExecuteTime": {
     "end_time": "2024-06-05T16:00:02.481663Z",
     "start_time": "2024-06-05T16:00:02.011320Z"
    }
   },
   "source": [
    "make_bins(loc_b53, 4, all_bins=True)\n",
    "make_equal_bins(loc_b53)"
   ],
   "outputs": [
    {
     "data": {
      "text/plain": [
       "<Figure size 432x288 with 1 Axes>"
      ],
      "image/png": "[encoded data removed]"
     },
     "metadata": {
      "needs_background": "light"
     },
     "output_type": "display_data"
    },
    {
     "data": {
      "text/plain": [
       "<Figure size 432x288 with 1 Axes>"
      ],
      "image/png": "[encoded data removed]"
     },
     "metadata": {
      "needs_background": "light"
     },
     "output_type": "display_data"
    }
   ],
   "execution_count": 4
  },
  {
   "cell_type": "code",
   "metadata": {
    "ExecuteTime": {
     "end_time": "2024-06-05T16:00:02.860931Z",
     "start_time": "2024-06-05T16:00:02.485332Z"
    }
   },
   "source": [
    "loc_b55 = import_file('Locus', '2.B55')\n",
    "loc_b56 = import_file('Locus', '2.B56')\n"
   ],
   "outputs": [],
   "execution_count": 5
  },
  {
   "cell_type": "code",
   "metadata": {
    "ExecuteTime": {
     "end_time": "2024-06-05T16:00:02.874715Z",
     "start_time": "2024-06-05T16:00:02.861902Z"
    }
   },
   "source": [
    "print(loc_b55.info())\n",
    "print(loc_b56)"
   ],
   "outputs": [
    {
     "name": "stdout",
     "output_type": "stream",
     "text": [
      "<class 'pandas.core.frame.DataFrame'>\n",
      "RangeIndex: 5995 entries, 0 to 5994\n",
      "Data columns (total 2 columns):\n",
      " #   Column  Non-Null Count  Dtype         \n",
      "---  ------  --------------  -----         \n",
      " 0   Date    5995 non-null   datetime64[ns]\n",
      " 1   Count   5871 non-null   float64       \n",
      "dtypes: datetime64[ns](1), float64(1)\n",
      "memory usage: 93.8 KB\n",
      "None\n",
      "                    Date  Count\n",
      "0    2024-04-01 11:35:08    NaN\n",
      "1    2024-04-01 14:12:50    1.0\n",
      "2    2024-04-01 14:17:49    4.0\n",
      "3    2024-04-01 14:22:49    0.0\n",
      "4    2024-04-01 14:27:49    0.0\n",
      "...                  ...    ...\n",
      "6449 2024-05-31 21:36:08    1.0\n",
      "6450 2024-05-31 21:41:08    0.0\n",
      "6451 2024-05-31 21:46:08    0.0\n",
      "6452 2024-05-31 21:51:08    0.0\n",
      "6453 2024-05-31 21:56:08    0.0\n",
      "\n",
      "[6454 rows x 2 columns]\n"
     ]
    }
   ],
   "execution_count": 6
  },
  {
   "cell_type": "code",
   "metadata": {
    "ExecuteTime": {
     "end_time": "2024-06-05T16:00:02.964417Z",
     "start_time": "2024-06-05T16:00:02.876009Z"
    }
   },
   "source": [
    "# loc_b55.set_index('Date', inplace=True)\n",
    "# loc_b56.set_index('Date', inplace=True)\n",
    "\n",
    "# Resample the data into ten-minute intervals\n",
    "resampled_b55 = loc_b55.resample('10min').sum()  # You can use other aggregation functions like mean, max, etc.\n",
    "resampled_b56 = loc_b56.resample('10min').sum()  # You can use other aggregation functions like mean, max, etc."
   ],
   "outputs": [
    {
     "ename": "TypeError",
     "evalue": "Only valid with DatetimeIndex, TimedeltaIndex or PeriodIndex, but got an instance of 'RangeIndex'",
     "output_type": "error",
     "traceback": [
      "\u001B[0;31m---------------------------------------------------------------------------\u001B[0m",
      "\u001B[0;31mTypeError\u001B[0m                                 Traceback (most recent call last)",
      "\u001B[0;32m/tmp/ipykernel_8924/3159591278.py\u001B[0m in \u001B[0;36m<module>\u001B[0;34m\u001B[0m\n\u001B[1;32m      3\u001B[0m \u001B[0;34m\u001B[0m\u001B[0m\n\u001B[1;32m      4\u001B[0m \u001B[0;31m# Resample the data into ten-minute intervals\u001B[0m\u001B[0;34m\u001B[0m\u001B[0;34m\u001B[0m\u001B[0m\n\u001B[0;32m----> 5\u001B[0;31m \u001B[0mresampled_b55\u001B[0m \u001B[0;34m=\u001B[0m \u001B[0mloc_b55\u001B[0m\u001B[0;34m.\u001B[0m\u001B[0mresample\u001B[0m\u001B[0;34m(\u001B[0m\u001B[0;34m'10min'\u001B[0m\u001B[0;34m)\u001B[0m\u001B[0;34m.\u001B[0m\u001B[0msum\u001B[0m\u001B[0;34m(\u001B[0m\u001B[0;34m)\u001B[0m  \u001B[0;31m# You can use other aggregation functions like mean, max, etc.\u001B[0m\u001B[0;34m\u001B[0m\u001B[0;34m\u001B[0m\u001B[0m\n\u001B[0m\u001B[1;32m      6\u001B[0m \u001B[0mresampled_b56\u001B[0m \u001B[0;34m=\u001B[0m \u001B[0mloc_b56\u001B[0m\u001B[0;34m.\u001B[0m\u001B[0mresample\u001B[0m\u001B[0;34m(\u001B[0m\u001B[0;34m'10min'\u001B[0m\u001B[0;34m)\u001B[0m\u001B[0;34m.\u001B[0m\u001B[0msum\u001B[0m\u001B[0;34m(\u001B[0m\u001B[0;34m)\u001B[0m  \u001B[0;31m# You can use other aggregation functions like mean, max, etc.\u001B[0m\u001B[0;34m\u001B[0m\u001B[0;34m\u001B[0m\u001B[0m\n",
      "\u001B[0;32m~/.local/lib/python3.10/site-packages/pandas/core/frame.py\u001B[0m in \u001B[0;36mresample\u001B[0;34m(self, rule, axis, closed, label, convention, kind, on, level, origin, offset, group_keys)\u001B[0m\n\u001B[1;32m  10992\u001B[0m         \u001B[0mgroup_keys\u001B[0m\u001B[0;34m:\u001B[0m \u001B[0mbool\u001B[0m \u001B[0;34m=\u001B[0m \u001B[0;32mFalse\u001B[0m\u001B[0;34m,\u001B[0m\u001B[0;34m\u001B[0m\u001B[0;34m\u001B[0m\u001B[0m\n\u001B[1;32m  10993\u001B[0m     ) -> Resampler:\n\u001B[0;32m> 10994\u001B[0;31m         return super().resample(\n\u001B[0m\u001B[1;32m  10995\u001B[0m             \u001B[0mrule\u001B[0m\u001B[0;34m=\u001B[0m\u001B[0mrule\u001B[0m\u001B[0;34m,\u001B[0m\u001B[0;34m\u001B[0m\u001B[0;34m\u001B[0m\u001B[0m\n\u001B[1;32m  10996\u001B[0m             \u001B[0maxis\u001B[0m\u001B[0;34m=\u001B[0m\u001B[0maxis\u001B[0m\u001B[0;34m,\u001B[0m\u001B[0;34m\u001B[0m\u001B[0;34m\u001B[0m\u001B[0m\n",
      "\u001B[0;32m~/.local/lib/python3.10/site-packages/pandas/core/generic.py\u001B[0m in \u001B[0;36mresample\u001B[0;34m(self, rule, axis, closed, label, convention, kind, on, level, origin, offset, group_keys)\u001B[0m\n\u001B[1;32m   8886\u001B[0m \u001B[0;34m\u001B[0m\u001B[0m\n\u001B[1;32m   8887\u001B[0m         \u001B[0maxis\u001B[0m \u001B[0;34m=\u001B[0m \u001B[0mself\u001B[0m\u001B[0;34m.\u001B[0m\u001B[0m_get_axis_number\u001B[0m\u001B[0;34m(\u001B[0m\u001B[0maxis\u001B[0m\u001B[0;34m)\u001B[0m\u001B[0;34m\u001B[0m\u001B[0;34m\u001B[0m\u001B[0m\n\u001B[0;32m-> 8888\u001B[0;31m         return get_resampler(\n\u001B[0m\u001B[1;32m   8889\u001B[0m             \u001B[0mcast\u001B[0m\u001B[0;34m(\u001B[0m\u001B[0;34m\"Series | DataFrame\"\u001B[0m\u001B[0;34m,\u001B[0m \u001B[0mself\u001B[0m\u001B[0;34m)\u001B[0m\u001B[0;34m,\u001B[0m\u001B[0;34m\u001B[0m\u001B[0;34m\u001B[0m\u001B[0m\n\u001B[1;32m   8890\u001B[0m             \u001B[0mfreq\u001B[0m\u001B[0;34m=\u001B[0m\u001B[0mrule\u001B[0m\u001B[0;34m,\u001B[0m\u001B[0;34m\u001B[0m\u001B[0;34m\u001B[0m\u001B[0m\n",
      "\u001B[0;32m~/.local/lib/python3.10/site-packages/pandas/core/resample.py\u001B[0m in \u001B[0;36mget_resampler\u001B[0;34m(obj, kind, **kwds)\u001B[0m\n\u001B[1;32m   1521\u001B[0m     \"\"\"\n\u001B[1;32m   1522\u001B[0m     \u001B[0mtg\u001B[0m \u001B[0;34m=\u001B[0m \u001B[0mTimeGrouper\u001B[0m\u001B[0;34m(\u001B[0m\u001B[0;34m**\u001B[0m\u001B[0mkwds\u001B[0m\u001B[0;34m)\u001B[0m\u001B[0;34m\u001B[0m\u001B[0;34m\u001B[0m\u001B[0m\n\u001B[0;32m-> 1523\u001B[0;31m     \u001B[0;32mreturn\u001B[0m \u001B[0mtg\u001B[0m\u001B[0;34m.\u001B[0m\u001B[0m_get_resampler\u001B[0m\u001B[0;34m(\u001B[0m\u001B[0mobj\u001B[0m\u001B[0;34m,\u001B[0m \u001B[0mkind\u001B[0m\u001B[0;34m=\u001B[0m\u001B[0mkind\u001B[0m\u001B[0;34m)\u001B[0m\u001B[0;34m\u001B[0m\u001B[0;34m\u001B[0m\u001B[0m\n\u001B[0m\u001B[1;32m   1524\u001B[0m \u001B[0;34m\u001B[0m\u001B[0m\n\u001B[1;32m   1525\u001B[0m \u001B[0;34m\u001B[0m\u001B[0m\n",
      "\u001B[0;32m~/.local/lib/python3.10/site-packages/pandas/core/resample.py\u001B[0m in \u001B[0;36m_get_resampler\u001B[0;34m(self, obj, kind)\u001B[0m\n\u001B[1;32m   1711\u001B[0m             )\n\u001B[1;32m   1712\u001B[0m \u001B[0;34m\u001B[0m\u001B[0m\n\u001B[0;32m-> 1713\u001B[0;31m         raise TypeError(\n\u001B[0m\u001B[1;32m   1714\u001B[0m             \u001B[0;34m\"Only valid with DatetimeIndex, \"\u001B[0m\u001B[0;34m\u001B[0m\u001B[0;34m\u001B[0m\u001B[0m\n\u001B[1;32m   1715\u001B[0m             \u001B[0;34m\"TimedeltaIndex or PeriodIndex, \"\u001B[0m\u001B[0;34m\u001B[0m\u001B[0;34m\u001B[0m\u001B[0m\n",
      "\u001B[0;31mTypeError\u001B[0m: Only valid with DatetimeIndex, TimedeltaIndex or PeriodIndex, but got an instance of 'RangeIndex'"
     ]
    }
   ],
   "execution_count": 7
  },
  {
   "cell_type": "code",
   "metadata": {
    "ExecuteTime": {
     "end_time": "2024-06-05T16:00:09.952272Z",
     "start_time": "2024-06-05T16:00:09.941697Z"
    }
   },
   "source": [
    "resampled_b55 = remove_zeros(resampled_b55)\n",
    "resampled_b56 = remove_zeros(resampled_b56)"
   ],
   "outputs": [
    {
     "ename": "NameError",
     "evalue": "name 'resampled_b55' is not defined",
     "output_type": "error",
     "traceback": [
      "\u001B[0;31m---------------------------------------------------------------------------\u001B[0m",
      "\u001B[0;31mNameError\u001B[0m                                 Traceback (most recent call last)",
      "\u001B[0;32m/tmp/ipykernel_8924/1309868180.py\u001B[0m in \u001B[0;36m<module>\u001B[0;34m\u001B[0m\n\u001B[0;32m----> 1\u001B[0;31m \u001B[0mresampled_b55\u001B[0m \u001B[0;34m=\u001B[0m \u001B[0mremove_zeros\u001B[0m\u001B[0;34m(\u001B[0m\u001B[0mresampled_b55\u001B[0m\u001B[0;34m)\u001B[0m\u001B[0;34m\u001B[0m\u001B[0;34m\u001B[0m\u001B[0m\n\u001B[0m\u001B[1;32m      2\u001B[0m \u001B[0mresampled_b56\u001B[0m \u001B[0;34m=\u001B[0m \u001B[0mremove_zeros\u001B[0m\u001B[0;34m(\u001B[0m\u001B[0mresampled_b56\u001B[0m\u001B[0;34m)\u001B[0m\u001B[0;34m\u001B[0m\u001B[0;34m\u001B[0m\u001B[0m\n",
      "\u001B[0;31mNameError\u001B[0m: name 'resampled_b55' is not defined"
     ]
    }
   ],
   "execution_count": 8
  },
  {
   "cell_type": "code",
   "metadata": {},
   "source": [
    "print(resampled_b55)\n",
    "print(resampled_b56)"
   ],
   "outputs": [],
   "execution_count": null
  },
  {
   "cell_type": "code",
   "metadata": {},
   "source": [
    "# Merge the DataFrames on the date column, using a full outer join\n",
    "merged_df = pd.merge(resampled_b55, resampled_b56, on='Date', how='outer', suffixes=('_b55', '_b56'))\n",
    "\n",
    "\n",
    "# Drop rows where either of the merged columns has NaN values\n",
    "filtered_df = merged_df.dropna(subset=['Count_b55', 'Count_b56'])\n",
    "\n",
    "# Add a new column with the differences between the two columns\n",
    "filtered_df['Count'] = abs(filtered_df['Count_b55'] - filtered_df['Count_b56'])\n",
    "\n",
    "# # Create a new DataFrame with only the Date and Difference columns\n",
    "difference_df = filtered_df[['Count']]\n",
    "print(difference_df)"
   ],
   "outputs": [],
   "execution_count": null
  },
  {
   "cell_type": "code",
   "metadata": {},
   "source": [
    "make_bins(difference_df,_,True)"
   ],
   "outputs": [],
   "execution_count": null
  },
  {
   "cell_type": "code",
   "metadata": {},
   "source": [],
   "outputs": [],
   "execution_count": null
  }
 ],
 "metadata": {
  "kernelspec": {
   "display_name": "base",
   "language": "python",
   "name": "python3"
  },
  "language_info": {
   "codemirror_mode": {
    "name": "ipython",
    "version": 3
   },
   "file_extension": ".py",
   "mimetype": "text/x-python",
   "name": "python",
   "nbconvert_exporter": "python",
   "pygments_lexer": "ipython3",
   "version": "3.12.2"
  }
 },
 "nbformat": 4,
 "nbformat_minor": 2
}
