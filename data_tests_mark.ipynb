{
 "cells": [
  {
   "cell_type": "code",
   "execution_count": 1,
   "metadata": {},
   "outputs": [],
   "source": [
    "import pandas as pd\n",
    "import numpy as np\n",
    "import matplotlib as plt"
   ]
  },
  {
   "cell_type": "code",
   "execution_count": 3,
   "metadata": {},
   "outputs": [],
   "source": [
    "loc_b53 = pd.read_excel('Data_clean/Locus_sensors/2.B53_processed.xlsx')"
   ]
  },
  {
   "cell_type": "code",
   "execution_count": 12,
   "metadata": {},
   "outputs": [
    {
     "name": "stdout",
     "output_type": "stream",
     "text": [
      "                    Date  Count\n",
      "0    2024-04-01 09:59:02    1.0\n",
      "5    2024-04-01 10:19:46    1.0\n",
      "11   2024-04-01 13:37:38    1.0\n",
      "12   2024-04-01 13:42:38    9.0\n",
      "13   2024-04-01 13:47:38   19.0\n",
      "...                  ...    ...\n",
      "6486 2024-05-31 20:33:01    6.0\n",
      "6487 2024-05-31 20:38:00    8.0\n",
      "6488 2024-05-31 20:43:01    2.0\n",
      "6491 2024-05-31 20:58:01    2.0\n",
      "6496 2024-05-31 21:18:12    1.0\n",
      "\n",
      "[4506 rows x 2 columns]\n"
     ]
    }
   ],
   "source": [
    "# Removing all zero values\n",
    "loc_b53 = loc_b53[loc_b53['Count'] > 0]\n",
    "print(loc_b53)"
   ]
  },
  {
   "cell_type": "code",
   "execution_count": null,
   "metadata": {},
   "outputs": [],
   "source": []
  }
 ],
 "metadata": {
  "kernelspec": {
   "display_name": "base",
   "language": "python",
   "name": "python3"
  },
  "language_info": {
   "codemirror_mode": {
    "name": "ipython",
    "version": 3
   },
   "file_extension": ".py",
   "mimetype": "text/x-python",
   "name": "python",
   "nbconvert_exporter": "python",
   "pygments_lexer": "ipython3",
   "version": "3.12.2"
  }
 },
 "nbformat": 4,
 "nbformat_minor": 2
}
