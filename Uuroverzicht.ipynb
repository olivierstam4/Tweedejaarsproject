{
 "cells": [
  {
   "cell_type": "code",
   "id": "initial_id",
   "metadata": {
    "collapsed": true,
    "ExecuteTime": {
     "end_time": "2024-06-05T15:58:30.090721Z",
     "start_time": "2024-06-05T15:58:30.085025Z"
    }
   },
   "source": [
    "import pandas as pd\n",
    "import numpy as np\n",
    "import matplotlib.pyplot as plt\n",
    "\n",
    "coupe_1 = ['2.B53', '2.B54']\n",
    "coupe_2 = ['2.B55', '2.B56']\n",
    "coupe_3 = ['2.B57', '2.B58']\n",
    "coupe_4 = ['2.B59', '2.B60']\n"
   ],
   "outputs": [],
   "execution_count": 3
  },
  {
   "metadata": {
    "ExecuteTime": {
     "end_time": "2024-06-05T16:49:41.764738Z",
     "start_time": "2024-06-05T16:49:41.549744Z"
    }
   },
   "cell_type": "code",
   "source": "data_test = pd.read_excel('Data_clean/Locus_sensors/2.B54_processed.xlsx')",
   "id": "862f053933c93553",
   "outputs": [],
   "execution_count": 11
  },
  {
   "metadata": {
    "ExecuteTime": {
     "end_time": "2024-06-05T17:10:35.425549Z",
     "start_time": "2024-06-05T17:10:35.410979Z"
    }
   },
   "cell_type": "code",
   "source": [
    "data_test['Date'] = pd.to_datetime(data_test['Date'], errors='coerce')\n",
    "data_test['Hour'] = data_test['Date'].dt.hour\n",
    "testing_data_mean = data_test.groupby('Hour')['Count'].mean()\n",
    "testing_data_sum = data_test.groupby('Hour')['Count'].sum()\n"
   ],
   "id": "cb513bc073297261",
   "outputs": [],
   "execution_count": 15
  },
  {
   "metadata": {
    "ExecuteTime": {
     "end_time": "2024-06-05T17:10:58.824092Z",
     "start_time": "2024-06-05T17:10:58.819315Z"
    }
   },
   "cell_type": "code",
   "source": "testing_data_sum[:30]",
   "id": "adc1bd30933214a8",
   "outputs": [
    {
     "data": {
      "text/plain": [
       "Hour\n",
       "8        6.0\n",
       "9      369.0\n",
       "10     991.0\n",
       "11    1742.0\n",
       "12    3122.0\n",
       "13    3668.0\n",
       "14    3289.0\n",
       "15    4087.0\n",
       "16    3284.0\n",
       "17    3509.0\n",
       "18    3235.0\n",
       "19    2864.0\n",
       "20    1977.0\n",
       "21    2540.0\n",
       "22    1946.0\n",
       "23    1043.0\n",
       "Name: Count, dtype: float64"
      ]
     },
     "execution_count": 17,
     "metadata": {},
     "output_type": "execute_result"
    }
   ],
   "execution_count": 17
  },
  {
   "metadata": {},
   "cell_type": "code",
   "outputs": [],
   "execution_count": null,
   "source": "",
   "id": "d5ee7f4f5001e10e"
  }
 ],
 "metadata": {
  "kernelspec": {
   "display_name": "Python 3",
   "language": "python",
   "name": "python3"
  },
  "language_info": {
   "codemirror_mode": {
    "name": "ipython",
    "version": 2
   },
   "file_extension": ".py",
   "mimetype": "text/x-python",
   "name": "python",
   "nbconvert_exporter": "python",
   "pygments_lexer": "ipython2",
   "version": "2.7.6"
  }
 },
 "nbformat": 4,
 "nbformat_minor": 5
}
