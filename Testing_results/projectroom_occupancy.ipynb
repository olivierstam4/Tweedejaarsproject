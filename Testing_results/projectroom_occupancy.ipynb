{
 "cells": [
  {
   "cell_type": "code",
   "id": "initial_id",
   "metadata": {
    "collapsed": true,
    "ExecuteTime": {
     "end_time": "2024-06-18T14:16:23.146041Z",
     "start_time": "2024-06-18T14:16:22.944041Z"
    }
   },
   "source": [
    "import pandas as pd\n",
    "import pandas as pd\n",
    "import numpy as np\n",
    "\n",
    "# Define the sensors and input folder\n",
    "sensors = ['2P02', '2T01', '2T02', '2T03', '2T04']\n",
    "input_folder = '../Data_target/projectroom/'\n",
    "\n",
    "# Initialize an empty list to store DataFrames\n",
    "dfs = []\n",
    "\n",
    "# Loop through each sensor\n",
    "for sensor in sensors:\n",
    "    # Read the Excel file\n",
    "    df = pd.read_excel(f'{input_folder}{sensor}_processed.xlsx')\n",
    "    \n",
    "    # Ensure the 'Date' column is in datetime format\n",
    "    df['Date'] = pd.to_datetime(df['Date'])\n",
    "    \n",
    "    # Align 'Date' to the nearest 5-minute interval\n",
    "    df['Date'] = df['Date'].dt.floor('5T')\n",
    "    \n",
    "    # Rename the 'Count' column to include the sensor name\n",
    "    df = df.rename(columns={'Count': f'Count_{sensor}'})\n",
    "    \n",
    "    # Append the DataFrame to the list\n",
    "    dfs.append(df)\n",
    "\n",
    "# Merge all DataFrames on the 'Date' column\n",
    "merged_df = dfs[0]\n",
    "for df in dfs[1:]:\n",
    "    merged_df = pd.merge(merged_df, df, on='Date', how='outer')\n",
    "\n",
    "# Sort by Date\n",
    "merged_df = merged_df.sort_values('Date').reset_index(drop=True)\n",
    "\n",
    "# Fill missing values with NaN\n",
    "merged_df = merged_df.fillna(np.nan)\n",
    "t_sensor_columns = [f'Count_{sensor}' for sensor in sensors if sensor.startswith('2T')]\n",
    "\n",
    "# Add the 'occupancy' column\n",
    "merged_df['occupancy'] = (merged_df[t_sensor_columns].notna() & (merged_df[t_sensor_columns] != 0)).sum(axis=1)\n",
    "\n",
    "# Save the merged DataFrame to a new Excel file\n",
    "output_file = '../Data_target/projectroom/merged_sensors_data.xlsx'\n",
    "merged_df.to_excel(output_file, index=False)\n",
    "\n",
    "print(f'Merged data saved to {output_file}')\n"
   ],
   "outputs": [
    {
     "name": "stdout",
     "output_type": "stream",
     "text": [
      "Merged data saved to ../Data_target/projectroom/merged_sensors_data.xlsx\n"
     ]
    },
    {
     "name": "stderr",
     "output_type": "stream",
     "text": [
      "C:\\Users\\olivi\\AppData\\Local\\Temp\\ipykernel_183988\\3126617612.py:21: FutureWarning: 'T' is deprecated and will be removed in a future version, please use 'min' instead.\n",
      "  df['Date'] = df['Date'].dt.floor('5T')\n",
      "C:\\Users\\olivi\\AppData\\Local\\Temp\\ipykernel_183988\\3126617612.py:21: FutureWarning: 'T' is deprecated and will be removed in a future version, please use 'min' instead.\n",
      "  df['Date'] = df['Date'].dt.floor('5T')\n",
      "C:\\Users\\olivi\\AppData\\Local\\Temp\\ipykernel_183988\\3126617612.py:21: FutureWarning: 'T' is deprecated and will be removed in a future version, please use 'min' instead.\n",
      "  df['Date'] = df['Date'].dt.floor('5T')\n",
      "C:\\Users\\olivi\\AppData\\Local\\Temp\\ipykernel_183988\\3126617612.py:21: FutureWarning: 'T' is deprecated and will be removed in a future version, please use 'min' instead.\n",
      "  df['Date'] = df['Date'].dt.floor('5T')\n",
      "C:\\Users\\olivi\\AppData\\Local\\Temp\\ipykernel_183988\\3126617612.py:21: FutureWarning: 'T' is deprecated and will be removed in a future version, please use 'min' instead.\n",
      "  df['Date'] = df['Date'].dt.floor('5T')\n"
     ]
    }
   ],
   "execution_count": 7
  },
  {
   "metadata": {},
   "cell_type": "code",
   "outputs": [],
   "execution_count": null,
   "source": "",
   "id": "eec4b4699a6bd76f"
  }
 ],
 "metadata": {
  "kernelspec": {
   "display_name": "Python 3",
   "language": "python",
   "name": "python3"
  },
  "language_info": {
   "codemirror_mode": {
    "name": "ipython",
    "version": 2
   },
   "file_extension": ".py",
   "mimetype": "text/x-python",
   "name": "python",
   "nbconvert_exporter": "python",
   "pygments_lexer": "ipython2",
   "version": "2.7.6"
  }
 },
 "nbformat": 4,
 "nbformat_minor": 5
}
