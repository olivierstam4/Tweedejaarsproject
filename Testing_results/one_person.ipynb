{
 "cells": [
  {
   "cell_type": "code",
   "id": "initial_id",
   "metadata": {
    "collapsed": true,
    "ExecuteTime": {
     "end_time": "2024-06-17T09:41:09.641431Z",
     "start_time": "2024-06-17T09:41:09.638431Z"
    }
   },
   "source": [
    "import pandas as pd \n",
    "import matplotlib.pyplot as plt\n",
    "\n",
    "file_path = '../Data_clean/Testing_data/Locus/'\n",
    "sensors = ['1.E09', '1.E10', '1.E15', '1.E16', '2.T01', '2.T02', '2.T03', '2.T04' ]\n"
   ],
   "outputs": [],
   "execution_count": 3
  },
  {
   "metadata": {
    "ExecuteTime": {
     "end_time": "2024-06-17T09:41:10.183517Z",
     "start_time": "2024-06-17T09:41:10.005516Z"
    }
   },
   "cell_type": "code",
   "source": "df = pd.read_excel(file_path + sensors[0] + '_processed.xlsx')",
   "id": "86f285944a45eadb",
   "outputs": [],
   "execution_count": 4
  },
  {
   "metadata": {
    "ExecuteTime": {
     "end_time": "2024-06-17T09:41:23.607364Z",
     "start_time": "2024-06-17T09:41:23.599865Z"
    }
   },
   "cell_type": "code",
   "source": "df.info()",
   "id": "6185fe7cc9c727a4",
   "outputs": [
    {
     "name": "stdout",
     "output_type": "stream",
     "text": [
      "<class 'pandas.core.frame.DataFrame'>\n",
      "RangeIndex: 74 entries, 0 to 73\n",
      "Data columns (total 2 columns):\n",
      " #   Column  Non-Null Count  Dtype         \n",
      "---  ------  --------------  -----         \n",
      " 0   Date    74 non-null     datetime64[ns]\n",
      " 1   Count   72 non-null     float64       \n",
      "dtypes: datetime64[ns](1), float64(1)\n",
      "memory usage: 1.3 KB\n"
     ]
    }
   ],
   "execution_count": 6
  },
  {
   "metadata": {
    "ExecuteTime": {
     "end_time": "2024-06-17T09:47:39.076360Z",
     "start_time": "2024-06-17T09:47:39.022861Z"
    }
   },
   "cell_type": "code",
   "source": [
    "dfs = []\n",
    "import os\n",
    "\n",
    "for sensor in sensors:\n",
    "\n",
    "    file_name = os.path.join(file_path, f'{sensor}_processed.xlsx')\n",
    "\n",
    "    df = pd.read_excel(file_name, parse_dates=['Date'])\n",
    " \n",
    "    df['Sensor'] = sensor\n",
    "\n",
    "    dfs.append(df)\n",
    "\n",
    "concatenated_df = pd.concat(dfs, ignore_index=True)\n",
    "\n",
    "print(concatenated_df.info())"
   ],
   "id": "37edef2422f60c48",
   "outputs": [
    {
     "name": "stdout",
     "output_type": "stream",
     "text": [
      "<class 'pandas.core.frame.DataFrame'>\n",
      "RangeIndex: 593 entries, 0 to 592\n",
      "Data columns (total 3 columns):\n",
      " #   Column  Non-Null Count  Dtype         \n",
      "---  ------  --------------  -----         \n",
      " 0   Date    593 non-null    datetime64[ns]\n",
      " 1   Count   573 non-null    float64       \n",
      " 2   Sensor  593 non-null    object        \n",
      "dtypes: datetime64[ns](1), float64(1), object(1)\n",
      "memory usage: 14.0+ KB\n",
      "None\n"
     ]
    }
   ],
   "execution_count": 11
  },
  {
   "metadata": {
    "ExecuteTime": {
     "end_time": "2024-06-17T09:49:05.558470Z",
     "start_time": "2024-06-17T09:49:05.554969Z"
    }
   },
   "cell_type": "code",
   "source": "concatenated_df['Count'].mean()",
   "id": "3ae07452ce33b1db",
   "outputs": [
    {
     "data": {
      "text/plain": [
       "10.399650959860384"
      ]
     },
     "execution_count": 14,
     "metadata": {},
     "output_type": "execute_result"
    }
   ],
   "execution_count": 14
  },
  {
   "metadata": {
    "ExecuteTime": {
     "end_time": "2024-06-17T09:49:33.695488Z",
     "start_time": "2024-06-17T09:49:33.692487Z"
    }
   },
   "cell_type": "code",
   "source": "concatenated_df = concatenated_df[concatenated_df['Count'] != 0]",
   "id": "b85d21d6e908fd23",
   "outputs": [],
   "execution_count": 15
  },
  {
   "metadata": {
    "ExecuteTime": {
     "end_time": "2024-06-17T09:49:41.272691Z",
     "start_time": "2024-06-17T09:49:41.269190Z"
    }
   },
   "cell_type": "code",
   "source": "concatenated_df['Count'].mean()",
   "id": "45a840ebcf7c5d9f",
   "outputs": [
    {
     "data": {
      "text/plain": [
       "13.605022831050228"
      ]
     },
     "execution_count": 16,
     "metadata": {},
     "output_type": "execute_result"
    }
   ],
   "execution_count": 16
  },
  {
   "metadata": {},
   "cell_type": "code",
   "outputs": [],
   "execution_count": null,
   "source": "",
   "id": "d3d3f1591e744b0d"
  }
 ],
 "metadata": {
  "kernelspec": {
   "display_name": "Python 3",
   "language": "python",
   "name": "python3"
  },
  "language_info": {
   "codemirror_mode": {
    "name": "ipython",
    "version": 2
   },
   "file_extension": ".py",
   "mimetype": "text/x-python",
   "name": "python",
   "nbconvert_exporter": "python",
   "pygments_lexer": "ipython2",
   "version": "2.7.6"
  }
 },
 "nbformat": 4,
 "nbformat_minor": 5
}
